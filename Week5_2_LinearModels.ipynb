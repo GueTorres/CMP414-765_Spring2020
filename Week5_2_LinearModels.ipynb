{
 "cells": [
  {
   "cell_type": "markdown",
   "metadata": {},
   "source": [
    "# Week 5\n",
    "# Simple Linear Regression and the Normal Equation (Chapter 4)\n",
    "\n",
    "So far we have treated machine learning models and their training algorithms mostly like black boxes. Starting from Chapter 4, we will look into the mechanism of several popular machine learning models, analyze them mathematically and learn how to implement the methods from scratch. Let's start with the linear regression model."
   ]
  },
  {
   "cell_type": "markdown",
   "metadata": {},
   "source": [
    "## I. Simple Linear regression: Sales Prediction\n",
    "\n",
    "To put things into context, let's look at a dataset that contains the sales revenue and the advertising budgets of a company in 200 different markets."
   ]
  },
  {
   "cell_type": "code",
   "execution_count": 2,
   "metadata": {},
   "outputs": [],
   "source": [
    "import numpy as np\n",
    "import pandas as pd\n",
    "import matplotlib.pyplot as plt\n",
    "%matplotlib inline"
   ]
  },
  {
   "cell_type": "code",
   "execution_count": 3,
   "metadata": {},
   "outputs": [
    {
     "data": {
      "text/html": [
       "<div>\n",
       "<style scoped>\n",
       "    .dataframe tbody tr th:only-of-type {\n",
       "        vertical-align: middle;\n",
       "    }\n",
       "\n",
       "    .dataframe tbody tr th {\n",
       "        vertical-align: top;\n",
       "    }\n",
       "\n",
       "    .dataframe thead th {\n",
       "        text-align: right;\n",
       "    }\n",
       "</style>\n",
       "<table border=\"1\" class=\"dataframe\">\n",
       "  <thead>\n",
       "    <tr style=\"text-align: right;\">\n",
       "      <th></th>\n",
       "      <th>TV</th>\n",
       "      <th>radio</th>\n",
       "      <th>newspaper</th>\n",
       "      <th>sales</th>\n",
       "    </tr>\n",
       "  </thead>\n",
       "  <tbody>\n",
       "    <tr>\n",
       "      <td>1</td>\n",
       "      <td>230.1</td>\n",
       "      <td>37.8</td>\n",
       "      <td>69.2</td>\n",
       "      <td>22.1</td>\n",
       "    </tr>\n",
       "    <tr>\n",
       "      <td>2</td>\n",
       "      <td>44.5</td>\n",
       "      <td>39.3</td>\n",
       "      <td>45.1</td>\n",
       "      <td>10.4</td>\n",
       "    </tr>\n",
       "    <tr>\n",
       "      <td>3</td>\n",
       "      <td>17.2</td>\n",
       "      <td>45.9</td>\n",
       "      <td>69.3</td>\n",
       "      <td>9.3</td>\n",
       "    </tr>\n",
       "    <tr>\n",
       "      <td>4</td>\n",
       "      <td>151.5</td>\n",
       "      <td>41.3</td>\n",
       "      <td>58.5</td>\n",
       "      <td>18.5</td>\n",
       "    </tr>\n",
       "    <tr>\n",
       "      <td>5</td>\n",
       "      <td>180.8</td>\n",
       "      <td>10.8</td>\n",
       "      <td>58.4</td>\n",
       "      <td>12.9</td>\n",
       "    </tr>\n",
       "  </tbody>\n",
       "</table>\n",
       "</div>"
      ],
      "text/plain": [
       "      TV  radio  newspaper  sales\n",
       "1  230.1   37.8       69.2   22.1\n",
       "2   44.5   39.3       45.1   10.4\n",
       "3   17.2   45.9       69.3    9.3\n",
       "4  151.5   41.3       58.5   18.5\n",
       "5  180.8   10.8       58.4   12.9"
      ]
     },
     "execution_count": 3,
     "metadata": {},
     "output_type": "execute_result"
    }
   ],
   "source": [
    "url = \"http://faculty.marshall.usc.edu/gareth-james/ISL/Advertising.csv\"\n",
    "advertising = pd.read_csv(url, index_col=0)\n",
    "advertising.head()"
   ]
  },
  {
   "cell_type": "code",
   "execution_count": 4,
   "metadata": {},
   "outputs": [],
   "source": [
    "# plot TV vs. sales"
   ]
  },
  {
   "cell_type": "code",
   "execution_count": null,
   "metadata": {},
   "outputs": [],
   "source": [
    "# plot radio vs. sales"
   ]
  },
  {
   "cell_type": "code",
   "execution_count": null,
   "metadata": {},
   "outputs": [],
   "source": [
    "# plot newspaper vs. sales"
   ]
  },
  {
   "cell_type": "markdown",
   "metadata": {},
   "source": [
    "For simplicity, we will only use `TV` as a predictor of `sales`."
   ]
  },
  {
   "cell_type": "code",
   "execution_count": 5,
   "metadata": {},
   "outputs": [
    {
     "data": {
      "text/html": [
       "<div>\n",
       "<style scoped>\n",
       "    .dataframe tbody tr th:only-of-type {\n",
       "        vertical-align: middle;\n",
       "    }\n",
       "\n",
       "    .dataframe tbody tr th {\n",
       "        vertical-align: top;\n",
       "    }\n",
       "\n",
       "    .dataframe thead th {\n",
       "        text-align: right;\n",
       "    }\n",
       "</style>\n",
       "<table border=\"1\" class=\"dataframe\">\n",
       "  <thead>\n",
       "    <tr style=\"text-align: right;\">\n",
       "      <th></th>\n",
       "      <th>TV</th>\n",
       "      <th>sales</th>\n",
       "    </tr>\n",
       "  </thead>\n",
       "  <tbody>\n",
       "    <tr>\n",
       "      <td>1</td>\n",
       "      <td>230.1</td>\n",
       "      <td>22.1</td>\n",
       "    </tr>\n",
       "    <tr>\n",
       "      <td>2</td>\n",
       "      <td>44.5</td>\n",
       "      <td>10.4</td>\n",
       "    </tr>\n",
       "    <tr>\n",
       "      <td>3</td>\n",
       "      <td>17.2</td>\n",
       "      <td>9.3</td>\n",
       "    </tr>\n",
       "    <tr>\n",
       "      <td>4</td>\n",
       "      <td>151.5</td>\n",
       "      <td>18.5</td>\n",
       "    </tr>\n",
       "    <tr>\n",
       "      <td>5</td>\n",
       "      <td>180.8</td>\n",
       "      <td>12.9</td>\n",
       "    </tr>\n",
       "  </tbody>\n",
       "</table>\n",
       "</div>"
      ],
      "text/plain": [
       "      TV  sales\n",
       "1  230.1   22.1\n",
       "2   44.5   10.4\n",
       "3   17.2    9.3\n",
       "4  151.5   18.5\n",
       "5  180.8   12.9"
      ]
     },
     "execution_count": 5,
     "metadata": {},
     "output_type": "execute_result"
    }
   ],
   "source": [
    "data = advertising[['TV', 'sales']]\n",
    "data.head()"
   ]
  },
  {
   "cell_type": "markdown",
   "metadata": {},
   "source": [
    "## Simple Linear Regression: Model Representation\n",
    "\n",
    "In order to describe the model mathematically, we need to introduce a few notations:\n",
    "- The input feature `TV` is represented as variable $X$.\n",
    "- The output/response feature `sales` is represented as variable $Y$.\n",
    "- Each instance of data is represented as $(x_i, y_i)$, where $i$ is the row index, $x_i$ is the value corresponding to $X$, and $y_i$ is the value corresponding to $Y$. For example, $(x_1, y_1) = (203.1, 22.1)$.\n",
    "\n",
    "The **simple linear regression** model assumes that the relationship between $X$ and $Y$ is\n",
    "$$Y \\approx f(X) = \\beta_0 + \\beta_1 X.$$\n",
    "\n",
    "- $\\beta_0$ and $\\beta_1$ are called **model parameters**. For simple linear regression, the relationship is characterized as a straight line with slope $\\beta_1$ and y-intercept $\\beta_0$.\n",
    "- For a given line, we need a **cost function** (in some occasions also called **loss function**) that measures how well a given line fits the data.\n",
    "- We also need a **training algorithm** that finds values of parameters so that the line fits the data well (usually \"fitting the data well\" means \"minimizing the cost\").\n"
   ]
  },
  {
   "cell_type": "markdown",
   "metadata": {},
   "source": [
    "## Simple Linear Regression: Cost Function\n",
    "A common choice of cost function is the **mean squared error (MSE) function**. It is defined as\n",
    "$$\\begin{align}\n",
    "MSE(\\beta_0, \\beta_1) =& \n",
    "\\frac{1}{N}\\sum_{i=1}^N (y_i - f(x_i))^2 \\\\\n",
    "=& \\frac{1}{N}\\sum_{i=1}^N\\big(y_i - \\beta_0 - \\beta_1x_i\\big)^2.\n",
    "\\end{align}$$"
   ]
  },
  {
   "cell_type": "markdown",
   "metadata": {},
   "source": [
    "To better understand the RSS function, let's calculate the value $MSE(5, 0.1)$."
   ]
  },
  {
   "cell_type": "code",
   "execution_count": 6,
   "metadata": {},
   "outputs": [],
   "source": [
    "# Calculate (y_1 - f(x_1))^2 with beta0 = 5 and beta1 = 0.1.\n"
   ]
  },
  {
   "cell_type": "code",
   "execution_count": 7,
   "metadata": {},
   "outputs": [],
   "source": [
    "# Create a list that contains value of (y_1 - f(x_1))^2 for i=1,...,200.\n"
   ]
  },
  {
   "cell_type": "code",
   "execution_count": 8,
   "metadata": {},
   "outputs": [],
   "source": [
    "# Calculate MSE(5, 0.1)\n"
   ]
  },
  {
   "cell_type": "code",
   "execution_count": 9,
   "metadata": {},
   "outputs": [],
   "source": [
    "# Write a function MSE(beta0, beta1) that returns the value of RSS with given beta0 and beta1.\n"
   ]
  },
  {
   "cell_type": "code",
   "execution_count": 10,
   "metadata": {},
   "outputs": [],
   "source": [
    "# Calculate MSE(7, 0.05) using MSE().\n"
   ]
  },
  {
   "cell_type": "code",
   "execution_count": null,
   "metadata": {},
   "outputs": [],
   "source": [
    "# Plot the data as a scatter plot.\n",
    "\n",
    "# Plot the line y = 5 + 0.1x.\n",
    "\n",
    "# Plot the line y = 7 + 0.05x.\n"
   ]
  },
  {
   "cell_type": "markdown",
   "metadata": {},
   "source": [
    "**Discussion**: \n",
    "- Which line fits the data better? \n",
    "- Which line has smaller MSE value?\n",
    "- What is the geometric meaning of the MSE function?"
   ]
  },
  {
   "cell_type": "markdown",
   "metadata": {},
   "source": [
    "# Simple Linear Regression: Training Algorithm\n",
    "To find the value of $\\beta_0, \\beta_1$ that minimizes the MSE cost function, there is a formula called **normal equation** that gives the result directly:\n",
    "\n",
    "$$\\begin{pmatrix} \\beta_0 \\\\ \\beta_1 \\end{pmatrix} = (\\textbf{X}^T\\cdot\\textbf{X})^{-1}\\cdot\\textbf{X}^T\\cdot\\textbf{y}.$$\n",
    "\n",
    "- $\\textbf{X}$ is the matrix formed as \n",
    "$$\\textbf{X} = \\begin{pmatrix} \n",
    "1 & x_1 \\\\\n",
    "1 & x_2 \\\\\n",
    "\\vdots & \\vdots \\\\\n",
    "1 & x_N \\\\\n",
    "\\end{pmatrix}.$$\n",
    "- $\\textbf{X}$ is the **matrix transpose** of $\\textbf{X}$.\n",
    "- $\\cdot$ is **matrix multiplication**.\n",
    "- $^{-1}$ is **matrix inverse**.\n",
    "- $\\textbf{y}$ is the vector of target values\n",
    "$$\\textbf{y} = \\begin{pmatrix} \n",
    "y_1 \\\\\n",
    "y_2 \\\\\n",
    "\\vdots \\\\\n",
    "y_N \\\\\n",
    "\\end{pmatrix}.$$"
   ]
  },
  {
   "cell_type": "markdown",
   "metadata": {},
   "source": [
    "Let's apply the normal equation and find the best parameter values."
   ]
  },
  {
   "cell_type": "code",
   "execution_count": 17,
   "metadata": {},
   "outputs": [
    {
     "name": "stdout",
     "output_type": "stream",
     "text": [
      "[[7.03259355]\n",
      " [0.04753664]]\n"
     ]
    }
   ],
   "source": [
    "# Construct X and y as numpy arrays\n",
    "X = np.hstack([np.ones([len(data), 1]), data[['TV']].values])\n",
    "# print(X)\n",
    "y = data[['sales']].values\n",
    "\n",
    "beta = np.linalg.inv(X.T.dot(X)).dot(X.T).dot(y)\n",
    "print(beta)"
   ]
  },
  {
   "cell_type": "code",
   "execution_count": null,
   "metadata": {},
   "outputs": [],
   "source": [
    "# Plot the data points and the optimal regression line.\n"
   ]
  },
  {
   "cell_type": "code",
   "execution_count": 18,
   "metadata": {},
   "outputs": [],
   "source": [
    "# Find the results using LinearRegression class from sklearn.linear_model\n"
   ]
  },
  {
   "cell_type": "markdown",
   "metadata": {},
   "source": [
    "**Discussion**:\n",
    "- How can we interpret the value of $\\beta_1$?\n",
    "- How can we interpret the value of $\\beta_0$?"
   ]
  },
  {
   "cell_type": "markdown",
   "metadata": {},
   "source": [
    "# Homework\n",
    "\n",
    "1. Build a simple linear regression model that uses `radio` to predict `sales`. "
   ]
  }
 ],
 "metadata": {
  "kernelspec": {
   "display_name": "Python 3",
   "language": "python",
   "name": "python3"
  },
  "language_info": {
   "codemirror_mode": {
    "name": "ipython",
    "version": 3
   },
   "file_extension": ".py",
   "mimetype": "text/x-python",
   "name": "python",
   "nbconvert_exporter": "python",
   "pygments_lexer": "ipython3",
   "version": "3.7.0"
  }
 },
 "nbformat": 4,
 "nbformat_minor": 2
}
