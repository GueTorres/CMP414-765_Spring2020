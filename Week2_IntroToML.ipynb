{
 "cells": [
  {
   "cell_type": "markdown",
   "metadata": {},
   "source": [
    "# Chapter 1. The Machine Learning Landscape\n",
    "\n",
    "## What is Machine Learning?\n",
    "\n",
    "- Machine Learning is the science of programming computers so they can learn from data.\n",
    "\n",
    "> A computer program is said to learn from experience E with respect to some task T and some performance measure P, if its performance on T, as measured by P, improves with experience E. -- Tom Mitchell, 1997.\n",
    "\n",
    "**Example: spam filter**\n",
    "- Task T: to flag spam for new emails\n",
    "- Experience E: existing emails with labels (either spam or non-spam)\n",
    "- Performance measure P: ratio of correctly classified emails\n",
    "\n",
    "**Non-example**: the collection of Wikipedia pages\n",
    "\n",
    "## Why Use Machine Learning?\n",
    "\n",
    "Traditional approach for spam filter:\n",
    "1. Choose features of spam emails manually: \"4U\", \"credit card\", \"free\", \"amazing\"\n",
    "2. Write an program to detect exactly the features you chose\n",
    "3. Test the program and modify the features until satisfactory\n",
    "\n",
    "Drawbacks of traditional approach: \n",
    "1. A large amount of features are needed - hard to maintain\n",
    "2. Spammers may change their writing to avoid explicit rules: change \"4U\" to \"For U\".\n",
    "3. For some complex problems, manually-engineered features are not good enough: hand-written digits\n",
    "\n",
    "Machine Learning models:\n",
    "1. Automatically learns which words and phrases are good predictors of spam. \n",
    "2. Since the program is not a stack of explicit rules, it is much shorter, easier to maintain, and most likely more accurate.\n",
    "3. With new training data, the Machine Learning model can update automatically to capture new indicators of spam emails.\n",
    "\n",
    "What Machine Learning is great for:\n",
    "1. Problems for which existing solutions require a lot of hand-tuning or long lists of rules: one Machine Learning algorithm can often simplify code and perform better.\n",
    "2. Complex problems for which there is no good solution at all using a traditional approach: the best Machine Learning techniques can find a solution.\n",
    "3. Fluctuating environments: a Machine Learning system can adapt to new data.\n",
    "4. Large amount of data: With Machine Learning, computers process big data faster than human.\n",
    "\n"
   ]
  },
  {
   "cell_type": "markdown",
   "metadata": {},
   "source": [
    "## Example Project: Men's Height in the United States\n",
    "\n",
    "As an illustration of machine learning practice, let's consider the task of understanding the trend of American men's height in the 20th century. This project requires the following stages:\n",
    "- Data preparation\n",
    "- Data exploration\n",
    "- Model training\n",
    "- Model evaluation\n",
    "- Model application"
   ]
  },
  {
   "cell_type": "markdown",
   "metadata": {},
   "source": [
    "## Part I: Data Preparation\n",
    "- Download data\n",
    "- Load data into Python\n",
    "- Extract US data\n",
    "- Clean the dataset"
   ]
  },
  {
   "cell_type": "markdown",
   "metadata": {},
   "source": [
    "### 1. Download Data\n",
    "- Go to website:  https://ourworldindata.org/human-height\n",
    "- Find the interactive chart \"Increase of human height over two centuries\"\n",
    "- Click the \"DATA\" tab, and download a CSV (comma-separated-values) file containing height data.\n",
    "\n",
    "When the data file is downloaded, you can open it with Microsoft Excel to see its content."
   ]
  },
  {
   "cell_type": "markdown",
   "metadata": {},
   "source": [
    "### 2. Load Data into Python\n",
    "- Open Jupyter Notebook.\n",
    "- Import numpy, pandas, and matplotlib.\n",
    "- Identify the directory that contains the .csv file (either *absolute path* or *relative path*)\n",
    "- Load the data as a DataFrame using the following statement:\n",
    "`raw_data = pd.read_csv(path + filename, delimiter=',')`\n",
    "\n",
    "Now the data in the .csv file are loaded to the DataFrame `raw_data`. You can display its first 5 rows using `raw_data.head()`."
   ]
  },
  {
   "cell_type": "code",
   "execution_count": 1,
   "metadata": {
    "collapsed": true
   },
   "outputs": [],
   "source": [
    "import numpy as np  # scientific computation\n",
    "import pandas as pd  # data handling\n",
    "import matplotlib.pyplot as plt  # plotting\n",
    "# The following magic command allows figures in notebook\n",
    "%matplotlib inline  "
   ]
  },
  {
   "cell_type": "code",
   "execution_count": 2,
   "metadata": {
    "collapsed": true
   },
   "outputs": [],
   "source": [
    "path = \"C:\\\\Users\\\\ch002\\\\Dropbox\\\\Teaching\\\\CMP 414\\\\Data\\\\\"\n",
    "filename = \"Week2.csv\"\n",
    "raw_data = pd.read_csv(path + filename, delimiter=',')"
   ]
  },
  {
   "cell_type": "code",
   "execution_count": 6,
   "metadata": {},
   "outputs": [],
   "source": [
    "# Understanding the usage of pd.read_csv()\n",
    "# 1. ?pd.read_csv will display the documentation page\n",
    "# 2. ??pd.read_csv will display the source code\n",
    "# 3. Press Shift + Tab when cursor is in the (): display the set of parameters."
   ]
  },
  {
   "cell_type": "code",
   "execution_count": 7,
   "metadata": {},
   "outputs": [
    {
     "data": {
      "text/html": [
       "<div>\n",
       "<style scoped>\n",
       "    .dataframe tbody tr th:only-of-type {\n",
       "        vertical-align: middle;\n",
       "    }\n",
       "\n",
       "    .dataframe tbody tr th {\n",
       "        vertical-align: top;\n",
       "    }\n",
       "\n",
       "    .dataframe thead th {\n",
       "        text-align: right;\n",
       "    }\n",
       "</style>\n",
       "<table border=\"1\" class=\"dataframe\">\n",
       "  <thead>\n",
       "    <tr style=\"text-align: right;\">\n",
       "      <th></th>\n",
       "      <th>Entity</th>\n",
       "      <th>Code</th>\n",
       "      <th>Year</th>\n",
       "      <th>Unnamed: 3</th>\n",
       "    </tr>\n",
       "  </thead>\n",
       "  <tbody>\n",
       "    <tr>\n",
       "      <th>0</th>\n",
       "      <td>Afghanistan</td>\n",
       "      <td>AFG</td>\n",
       "      <td>1870</td>\n",
       "      <td>168.4</td>\n",
       "    </tr>\n",
       "    <tr>\n",
       "      <th>1</th>\n",
       "      <td>Afghanistan</td>\n",
       "      <td>AFG</td>\n",
       "      <td>1880</td>\n",
       "      <td>165.7</td>\n",
       "    </tr>\n",
       "    <tr>\n",
       "      <th>2</th>\n",
       "      <td>Afghanistan</td>\n",
       "      <td>AFG</td>\n",
       "      <td>1930</td>\n",
       "      <td>166.8</td>\n",
       "    </tr>\n",
       "    <tr>\n",
       "      <th>3</th>\n",
       "      <td>Albania</td>\n",
       "      <td>ALB</td>\n",
       "      <td>1880</td>\n",
       "      <td>170.1</td>\n",
       "    </tr>\n",
       "    <tr>\n",
       "      <th>4</th>\n",
       "      <td>Albania</td>\n",
       "      <td>ALB</td>\n",
       "      <td>1890</td>\n",
       "      <td>169.8</td>\n",
       "    </tr>\n",
       "  </tbody>\n",
       "</table>\n",
       "</div>"
      ],
      "text/plain": [
       "        Entity Code  Year  Unnamed: 3\n",
       "0  Afghanistan  AFG  1870       168.4\n",
       "1  Afghanistan  AFG  1880       165.7\n",
       "2  Afghanistan  AFG  1930       166.8\n",
       "3      Albania  ALB  1880       170.1\n",
       "4      Albania  ALB  1890       169.8"
      ]
     },
     "execution_count": 7,
     "metadata": {},
     "output_type": "execute_result"
    }
   ],
   "source": [
    "raw_data.head()"
   ]
  },
  {
   "cell_type": "code",
   "execution_count": 8,
   "metadata": {},
   "outputs": [
    {
     "name": "stdout",
     "output_type": "stream",
     "text": [
      "C:\\Users\\ch002\\Dropbox\\Teaching\\CMP 414\n"
     ]
    }
   ],
   "source": [
    "# Load the data using relative path\n",
    "# Display current working directory:\n",
    "import os\n",
    "print(os.getcwd())"
   ]
  },
  {
   "cell_type": "code",
   "execution_count": 9,
   "metadata": {
    "scrolled": true
   },
   "outputs": [
    {
     "data": {
      "text/html": [
       "<div>\n",
       "<style scoped>\n",
       "    .dataframe tbody tr th:only-of-type {\n",
       "        vertical-align: middle;\n",
       "    }\n",
       "\n",
       "    .dataframe tbody tr th {\n",
       "        vertical-align: top;\n",
       "    }\n",
       "\n",
       "    .dataframe thead th {\n",
       "        text-align: right;\n",
       "    }\n",
       "</style>\n",
       "<table border=\"1\" class=\"dataframe\">\n",
       "  <thead>\n",
       "    <tr style=\"text-align: right;\">\n",
       "      <th></th>\n",
       "      <th>Entity</th>\n",
       "      <th>Code</th>\n",
       "      <th>Year</th>\n",
       "      <th>Unnamed: 3</th>\n",
       "    </tr>\n",
       "  </thead>\n",
       "  <tbody>\n",
       "    <tr>\n",
       "      <th>0</th>\n",
       "      <td>Afghanistan</td>\n",
       "      <td>AFG</td>\n",
       "      <td>1870</td>\n",
       "      <td>168.4</td>\n",
       "    </tr>\n",
       "    <tr>\n",
       "      <th>1</th>\n",
       "      <td>Afghanistan</td>\n",
       "      <td>AFG</td>\n",
       "      <td>1880</td>\n",
       "      <td>165.7</td>\n",
       "    </tr>\n",
       "    <tr>\n",
       "      <th>2</th>\n",
       "      <td>Afghanistan</td>\n",
       "      <td>AFG</td>\n",
       "      <td>1930</td>\n",
       "      <td>166.8</td>\n",
       "    </tr>\n",
       "    <tr>\n",
       "      <th>3</th>\n",
       "      <td>Albania</td>\n",
       "      <td>ALB</td>\n",
       "      <td>1880</td>\n",
       "      <td>170.1</td>\n",
       "    </tr>\n",
       "    <tr>\n",
       "      <th>4</th>\n",
       "      <td>Albania</td>\n",
       "      <td>ALB</td>\n",
       "      <td>1890</td>\n",
       "      <td>169.8</td>\n",
       "    </tr>\n",
       "  </tbody>\n",
       "</table>\n",
       "</div>"
      ],
      "text/plain": [
       "        Entity Code  Year  Unnamed: 3\n",
       "0  Afghanistan  AFG  1870       168.4\n",
       "1  Afghanistan  AFG  1880       165.7\n",
       "2  Afghanistan  AFG  1930       166.8\n",
       "3      Albania  ALB  1880       170.1\n",
       "4      Albania  ALB  1890       169.8"
      ]
     },
     "execution_count": 9,
     "metadata": {},
     "output_type": "execute_result"
    }
   ],
   "source": [
    "path = \"Data/\" # the \"Data\" sub-folder from current working directory\n",
    "raw_data = pd.read_csv(path + filename, delimiter=',')\n",
    "raw_data.head()"
   ]
  },
  {
   "cell_type": "code",
   "execution_count": 10,
   "metadata": {},
   "outputs": [
    {
     "data": {
      "text/html": [
       "<div>\n",
       "<style scoped>\n",
       "    .dataframe tbody tr th:only-of-type {\n",
       "        vertical-align: middle;\n",
       "    }\n",
       "\n",
       "    .dataframe tbody tr th {\n",
       "        vertical-align: top;\n",
       "    }\n",
       "\n",
       "    .dataframe thead th {\n",
       "        text-align: right;\n",
       "    }\n",
       "</style>\n",
       "<table border=\"1\" class=\"dataframe\">\n",
       "  <thead>\n",
       "    <tr style=\"text-align: right;\">\n",
       "      <th></th>\n",
       "      <th>Entity</th>\n",
       "      <th>Code</th>\n",
       "      <th>Year</th>\n",
       "      <th>Unnamed: 3</th>\n",
       "    </tr>\n",
       "  </thead>\n",
       "  <tbody>\n",
       "    <tr>\n",
       "      <th>0</th>\n",
       "      <td>Afghanistan</td>\n",
       "      <td>AFG</td>\n",
       "      <td>1870</td>\n",
       "      <td>168.4</td>\n",
       "    </tr>\n",
       "    <tr>\n",
       "      <th>1</th>\n",
       "      <td>Afghanistan</td>\n",
       "      <td>AFG</td>\n",
       "      <td>1880</td>\n",
       "      <td>165.7</td>\n",
       "    </tr>\n",
       "    <tr>\n",
       "      <th>2</th>\n",
       "      <td>Afghanistan</td>\n",
       "      <td>AFG</td>\n",
       "      <td>1930</td>\n",
       "      <td>166.8</td>\n",
       "    </tr>\n",
       "    <tr>\n",
       "      <th>3</th>\n",
       "      <td>Albania</td>\n",
       "      <td>ALB</td>\n",
       "      <td>1880</td>\n",
       "      <td>170.1</td>\n",
       "    </tr>\n",
       "    <tr>\n",
       "      <th>4</th>\n",
       "      <td>Albania</td>\n",
       "      <td>ALB</td>\n",
       "      <td>1890</td>\n",
       "      <td>169.8</td>\n",
       "    </tr>\n",
       "  </tbody>\n",
       "</table>\n",
       "</div>"
      ],
      "text/plain": [
       "        Entity Code  Year  Unnamed: 3\n",
       "0  Afghanistan  AFG  1870       168.4\n",
       "1  Afghanistan  AFG  1880       165.7\n",
       "2  Afghanistan  AFG  1930       166.8\n",
       "3      Albania  ALB  1880       170.1\n",
       "4      Albania  ALB  1890       169.8"
      ]
     },
     "execution_count": 10,
     "metadata": {},
     "output_type": "execute_result"
    }
   ],
   "source": [
    "raw_data = pd.read_csv(\"Data/Week2.csv\", delimiter=\",\")\n",
    "raw_data.head()"
   ]
  },
  {
   "cell_type": "markdown",
   "metadata": {},
   "source": [
    "### DataFrame\n",
    "Data frame is a way to store data in rectangular grids that can easily be overviewed. Each row of these grids corresponds to measurements or values of an instance, while each column is a vector containing data for a specific variable. A data frame's row may contain different types of values: numeric, character, logical, etc.\n",
    "\n",
    "Data frames in Python come with the Pandas libarary, and they are defined as a two-dimensional labeled data structures with columns of potentially different types.\n",
    "\n",
    "Toturials of Pandas can be found here:\n",
    "\n",
    "https://pandas.pydata.org/pandas-docs/stable/10min.html\n",
    "\n",
    "https://www.datacamp.com/community/tutorials/pandas-tutorial-dataframe-python"
   ]
  },
  {
   "cell_type": "markdown",
   "metadata": {},
   "source": [
    "### 3. Extract US Data\n",
    "- Create a filter on the rows with condition \"Entity = United States\"\n",
    "- Use the filter to select rows related to US.\n",
    "- Create another filter with condition \"Year >= 1900\", and use it to filter the data.\n",
    "- Display the resulting data frame."
   ]
  },
  {
   "cell_type": "code",
   "execution_count": 11,
   "metadata": {},
   "outputs": [
    {
     "name": "stdout",
     "output_type": "stream",
     "text": [
      "0       False\n",
      "1       False\n",
      "2       False\n",
      "3       False\n",
      "4       False\n",
      "        ...  \n",
      "1245    False\n",
      "1246    False\n",
      "1247    False\n",
      "1248    False\n",
      "1249    False\n",
      "Name: Entity, Length: 1250, dtype: bool\n"
     ]
    }
   ],
   "source": [
    "filter1 = (raw_data['Entity'] == \"United States\")\n",
    "print(filter1)"
   ]
  },
  {
   "cell_type": "code",
   "execution_count": 12,
   "metadata": {},
   "outputs": [
    {
     "data": {
      "text/html": [
       "<div>\n",
       "<style scoped>\n",
       "    .dataframe tbody tr th:only-of-type {\n",
       "        vertical-align: middle;\n",
       "    }\n",
       "\n",
       "    .dataframe tbody tr th {\n",
       "        vertical-align: top;\n",
       "    }\n",
       "\n",
       "    .dataframe thead th {\n",
       "        text-align: right;\n",
       "    }\n",
       "</style>\n",
       "<table border=\"1\" class=\"dataframe\">\n",
       "  <thead>\n",
       "    <tr style=\"text-align: right;\">\n",
       "      <th></th>\n",
       "      <th>Entity</th>\n",
       "      <th>Code</th>\n",
       "      <th>Year</th>\n",
       "      <th>Unnamed: 3</th>\n",
       "    </tr>\n",
       "  </thead>\n",
       "  <tbody>\n",
       "    <tr>\n",
       "      <th>1194</th>\n",
       "      <td>United States</td>\n",
       "      <td>USA</td>\n",
       "      <td>1820</td>\n",
       "      <td>172.2</td>\n",
       "    </tr>\n",
       "    <tr>\n",
       "      <th>1195</th>\n",
       "      <td>United States</td>\n",
       "      <td>USA</td>\n",
       "      <td>1830</td>\n",
       "      <td>173.5</td>\n",
       "    </tr>\n",
       "    <tr>\n",
       "      <th>1196</th>\n",
       "      <td>United States</td>\n",
       "      <td>USA</td>\n",
       "      <td>1840</td>\n",
       "      <td>172.2</td>\n",
       "    </tr>\n",
       "    <tr>\n",
       "      <th>1197</th>\n",
       "      <td>United States</td>\n",
       "      <td>USA</td>\n",
       "      <td>1850</td>\n",
       "      <td>171.1</td>\n",
       "    </tr>\n",
       "    <tr>\n",
       "      <th>1198</th>\n",
       "      <td>United States</td>\n",
       "      <td>USA</td>\n",
       "      <td>1860</td>\n",
       "      <td>170.6</td>\n",
       "    </tr>\n",
       "    <tr>\n",
       "      <th>1199</th>\n",
       "      <td>United States</td>\n",
       "      <td>USA</td>\n",
       "      <td>1870</td>\n",
       "      <td>171.1</td>\n",
       "    </tr>\n",
       "    <tr>\n",
       "      <th>1200</th>\n",
       "      <td>United States</td>\n",
       "      <td>USA</td>\n",
       "      <td>1880</td>\n",
       "      <td>169.5</td>\n",
       "    </tr>\n",
       "    <tr>\n",
       "      <th>1201</th>\n",
       "      <td>United States</td>\n",
       "      <td>USA</td>\n",
       "      <td>1890</td>\n",
       "      <td>169.1</td>\n",
       "    </tr>\n",
       "    <tr>\n",
       "      <th>1202</th>\n",
       "      <td>United States</td>\n",
       "      <td>USA</td>\n",
       "      <td>1900</td>\n",
       "      <td>170.0</td>\n",
       "    </tr>\n",
       "    <tr>\n",
       "      <th>1203</th>\n",
       "      <td>United States</td>\n",
       "      <td>USA</td>\n",
       "      <td>1910</td>\n",
       "      <td>172.1</td>\n",
       "    </tr>\n",
       "    <tr>\n",
       "      <th>1204</th>\n",
       "      <td>United States</td>\n",
       "      <td>USA</td>\n",
       "      <td>1920</td>\n",
       "      <td>173.1</td>\n",
       "    </tr>\n",
       "    <tr>\n",
       "      <th>1205</th>\n",
       "      <td>United States</td>\n",
       "      <td>USA</td>\n",
       "      <td>1930</td>\n",
       "      <td>173.4</td>\n",
       "    </tr>\n",
       "    <tr>\n",
       "      <th>1206</th>\n",
       "      <td>United States</td>\n",
       "      <td>USA</td>\n",
       "      <td>1940</td>\n",
       "      <td>176.1</td>\n",
       "    </tr>\n",
       "    <tr>\n",
       "      <th>1207</th>\n",
       "      <td>United States</td>\n",
       "      <td>USA</td>\n",
       "      <td>1950</td>\n",
       "      <td>177.1</td>\n",
       "    </tr>\n",
       "    <tr>\n",
       "      <th>1208</th>\n",
       "      <td>United States</td>\n",
       "      <td>USA</td>\n",
       "      <td>1960</td>\n",
       "      <td>177.3</td>\n",
       "    </tr>\n",
       "    <tr>\n",
       "      <th>1209</th>\n",
       "      <td>United States</td>\n",
       "      <td>USA</td>\n",
       "      <td>1970</td>\n",
       "      <td>178.3</td>\n",
       "    </tr>\n",
       "    <tr>\n",
       "      <th>1210</th>\n",
       "      <td>United States</td>\n",
       "      <td>USA</td>\n",
       "      <td>1980</td>\n",
       "      <td>179.0</td>\n",
       "    </tr>\n",
       "  </tbody>\n",
       "</table>\n",
       "</div>"
      ],
      "text/plain": [
       "             Entity Code  Year  Unnamed: 3\n",
       "1194  United States  USA  1820       172.2\n",
       "1195  United States  USA  1830       173.5\n",
       "1196  United States  USA  1840       172.2\n",
       "1197  United States  USA  1850       171.1\n",
       "1198  United States  USA  1860       170.6\n",
       "1199  United States  USA  1870       171.1\n",
       "1200  United States  USA  1880       169.5\n",
       "1201  United States  USA  1890       169.1\n",
       "1202  United States  USA  1900       170.0\n",
       "1203  United States  USA  1910       172.1\n",
       "1204  United States  USA  1920       173.1\n",
       "1205  United States  USA  1930       173.4\n",
       "1206  United States  USA  1940       176.1\n",
       "1207  United States  USA  1950       177.1\n",
       "1208  United States  USA  1960       177.3\n",
       "1209  United States  USA  1970       178.3\n",
       "1210  United States  USA  1980       179.0"
      ]
     },
     "execution_count": 12,
     "metadata": {},
     "output_type": "execute_result"
    }
   ],
   "source": [
    "filter1 = (raw_data['Entity'] == \"United States\")\n",
    "data = raw_data[filter1]\n",
    "data"
   ]
  },
  {
   "cell_type": "code",
   "execution_count": 13,
   "metadata": {},
   "outputs": [
    {
     "data": {
      "text/html": [
       "<div>\n",
       "<style scoped>\n",
       "    .dataframe tbody tr th:only-of-type {\n",
       "        vertical-align: middle;\n",
       "    }\n",
       "\n",
       "    .dataframe tbody tr th {\n",
       "        vertical-align: top;\n",
       "    }\n",
       "\n",
       "    .dataframe thead th {\n",
       "        text-align: right;\n",
       "    }\n",
       "</style>\n",
       "<table border=\"1\" class=\"dataframe\">\n",
       "  <thead>\n",
       "    <tr style=\"text-align: right;\">\n",
       "      <th></th>\n",
       "      <th>Entity</th>\n",
       "      <th>Code</th>\n",
       "      <th>Year</th>\n",
       "      <th>Unnamed: 3</th>\n",
       "    </tr>\n",
       "  </thead>\n",
       "  <tbody>\n",
       "    <tr>\n",
       "      <th>1202</th>\n",
       "      <td>United States</td>\n",
       "      <td>USA</td>\n",
       "      <td>1900</td>\n",
       "      <td>170.0</td>\n",
       "    </tr>\n",
       "    <tr>\n",
       "      <th>1203</th>\n",
       "      <td>United States</td>\n",
       "      <td>USA</td>\n",
       "      <td>1910</td>\n",
       "      <td>172.1</td>\n",
       "    </tr>\n",
       "    <tr>\n",
       "      <th>1204</th>\n",
       "      <td>United States</td>\n",
       "      <td>USA</td>\n",
       "      <td>1920</td>\n",
       "      <td>173.1</td>\n",
       "    </tr>\n",
       "    <tr>\n",
       "      <th>1205</th>\n",
       "      <td>United States</td>\n",
       "      <td>USA</td>\n",
       "      <td>1930</td>\n",
       "      <td>173.4</td>\n",
       "    </tr>\n",
       "    <tr>\n",
       "      <th>1206</th>\n",
       "      <td>United States</td>\n",
       "      <td>USA</td>\n",
       "      <td>1940</td>\n",
       "      <td>176.1</td>\n",
       "    </tr>\n",
       "    <tr>\n",
       "      <th>1207</th>\n",
       "      <td>United States</td>\n",
       "      <td>USA</td>\n",
       "      <td>1950</td>\n",
       "      <td>177.1</td>\n",
       "    </tr>\n",
       "    <tr>\n",
       "      <th>1208</th>\n",
       "      <td>United States</td>\n",
       "      <td>USA</td>\n",
       "      <td>1960</td>\n",
       "      <td>177.3</td>\n",
       "    </tr>\n",
       "    <tr>\n",
       "      <th>1209</th>\n",
       "      <td>United States</td>\n",
       "      <td>USA</td>\n",
       "      <td>1970</td>\n",
       "      <td>178.3</td>\n",
       "    </tr>\n",
       "    <tr>\n",
       "      <th>1210</th>\n",
       "      <td>United States</td>\n",
       "      <td>USA</td>\n",
       "      <td>1980</td>\n",
       "      <td>179.0</td>\n",
       "    </tr>\n",
       "  </tbody>\n",
       "</table>\n",
       "</div>"
      ],
      "text/plain": [
       "             Entity Code  Year  Unnamed: 3\n",
       "1202  United States  USA  1900       170.0\n",
       "1203  United States  USA  1910       172.1\n",
       "1204  United States  USA  1920       173.1\n",
       "1205  United States  USA  1930       173.4\n",
       "1206  United States  USA  1940       176.1\n",
       "1207  United States  USA  1950       177.1\n",
       "1208  United States  USA  1960       177.3\n",
       "1209  United States  USA  1970       178.3\n",
       "1210  United States  USA  1980       179.0"
      ]
     },
     "execution_count": 13,
     "metadata": {},
     "output_type": "execute_result"
    }
   ],
   "source": [
    "filter2 = (data['Year'] >= 1900)\n",
    "data = data[filter2]\n",
    "data"
   ]
  },
  {
   "cell_type": "markdown",
   "metadata": {},
   "source": [
    "### 4. Clean the Dataset\n",
    "1. Reset the index.\n",
    "2. Remove Entity and Code column.\n",
    "3. Give a proper name to height column"
   ]
  },
  {
   "cell_type": "code",
   "execution_count": 15,
   "metadata": {},
   "outputs": [
    {
     "data": {
      "text/html": [
       "<div>\n",
       "<style scoped>\n",
       "    .dataframe tbody tr th:only-of-type {\n",
       "        vertical-align: middle;\n",
       "    }\n",
       "\n",
       "    .dataframe tbody tr th {\n",
       "        vertical-align: top;\n",
       "    }\n",
       "\n",
       "    .dataframe thead th {\n",
       "        text-align: right;\n",
       "    }\n",
       "</style>\n",
       "<table border=\"1\" class=\"dataframe\">\n",
       "  <thead>\n",
       "    <tr style=\"text-align: right;\">\n",
       "      <th></th>\n",
       "      <th>Entity</th>\n",
       "      <th>Code</th>\n",
       "      <th>Unnamed: 3</th>\n",
       "    </tr>\n",
       "    <tr>\n",
       "      <th>Year</th>\n",
       "      <th></th>\n",
       "      <th></th>\n",
       "      <th></th>\n",
       "    </tr>\n",
       "  </thead>\n",
       "  <tbody>\n",
       "    <tr>\n",
       "      <th>1900</th>\n",
       "      <td>United States</td>\n",
       "      <td>USA</td>\n",
       "      <td>170.0</td>\n",
       "    </tr>\n",
       "    <tr>\n",
       "      <th>1910</th>\n",
       "      <td>United States</td>\n",
       "      <td>USA</td>\n",
       "      <td>172.1</td>\n",
       "    </tr>\n",
       "    <tr>\n",
       "      <th>1920</th>\n",
       "      <td>United States</td>\n",
       "      <td>USA</td>\n",
       "      <td>173.1</td>\n",
       "    </tr>\n",
       "    <tr>\n",
       "      <th>1930</th>\n",
       "      <td>United States</td>\n",
       "      <td>USA</td>\n",
       "      <td>173.4</td>\n",
       "    </tr>\n",
       "    <tr>\n",
       "      <th>1940</th>\n",
       "      <td>United States</td>\n",
       "      <td>USA</td>\n",
       "      <td>176.1</td>\n",
       "    </tr>\n",
       "    <tr>\n",
       "      <th>1950</th>\n",
       "      <td>United States</td>\n",
       "      <td>USA</td>\n",
       "      <td>177.1</td>\n",
       "    </tr>\n",
       "    <tr>\n",
       "      <th>1960</th>\n",
       "      <td>United States</td>\n",
       "      <td>USA</td>\n",
       "      <td>177.3</td>\n",
       "    </tr>\n",
       "    <tr>\n",
       "      <th>1970</th>\n",
       "      <td>United States</td>\n",
       "      <td>USA</td>\n",
       "      <td>178.3</td>\n",
       "    </tr>\n",
       "    <tr>\n",
       "      <th>1980</th>\n",
       "      <td>United States</td>\n",
       "      <td>USA</td>\n",
       "      <td>179.0</td>\n",
       "    </tr>\n",
       "  </tbody>\n",
       "</table>\n",
       "</div>"
      ],
      "text/plain": [
       "             Entity Code  Unnamed: 3\n",
       "Year                                \n",
       "1900  United States  USA       170.0\n",
       "1910  United States  USA       172.1\n",
       "1920  United States  USA       173.1\n",
       "1930  United States  USA       173.4\n",
       "1940  United States  USA       176.1\n",
       "1950  United States  USA       177.1\n",
       "1960  United States  USA       177.3\n",
       "1970  United States  USA       178.3\n",
       "1980  United States  USA       179.0"
      ]
     },
     "execution_count": 15,
     "metadata": {},
     "output_type": "execute_result"
    }
   ],
   "source": [
    "data = data.set_index([\"Year\"])\n",
    "data"
   ]
  },
  {
   "cell_type": "code",
   "execution_count": 16,
   "metadata": {},
   "outputs": [
    {
     "data": {
      "text/html": [
       "<div>\n",
       "<style scoped>\n",
       "    .dataframe tbody tr th:only-of-type {\n",
       "        vertical-align: middle;\n",
       "    }\n",
       "\n",
       "    .dataframe tbody tr th {\n",
       "        vertical-align: top;\n",
       "    }\n",
       "\n",
       "    .dataframe thead th {\n",
       "        text-align: right;\n",
       "    }\n",
       "</style>\n",
       "<table border=\"1\" class=\"dataframe\">\n",
       "  <thead>\n",
       "    <tr style=\"text-align: right;\">\n",
       "      <th></th>\n",
       "      <th>Unnamed: 3</th>\n",
       "    </tr>\n",
       "    <tr>\n",
       "      <th>Year</th>\n",
       "      <th></th>\n",
       "    </tr>\n",
       "  </thead>\n",
       "  <tbody>\n",
       "    <tr>\n",
       "      <th>1900</th>\n",
       "      <td>170.0</td>\n",
       "    </tr>\n",
       "    <tr>\n",
       "      <th>1910</th>\n",
       "      <td>172.1</td>\n",
       "    </tr>\n",
       "    <tr>\n",
       "      <th>1920</th>\n",
       "      <td>173.1</td>\n",
       "    </tr>\n",
       "    <tr>\n",
       "      <th>1930</th>\n",
       "      <td>173.4</td>\n",
       "    </tr>\n",
       "    <tr>\n",
       "      <th>1940</th>\n",
       "      <td>176.1</td>\n",
       "    </tr>\n",
       "    <tr>\n",
       "      <th>1950</th>\n",
       "      <td>177.1</td>\n",
       "    </tr>\n",
       "    <tr>\n",
       "      <th>1960</th>\n",
       "      <td>177.3</td>\n",
       "    </tr>\n",
       "    <tr>\n",
       "      <th>1970</th>\n",
       "      <td>178.3</td>\n",
       "    </tr>\n",
       "    <tr>\n",
       "      <th>1980</th>\n",
       "      <td>179.0</td>\n",
       "    </tr>\n",
       "  </tbody>\n",
       "</table>\n",
       "</div>"
      ],
      "text/plain": [
       "      Unnamed: 3\n",
       "Year            \n",
       "1900       170.0\n",
       "1910       172.1\n",
       "1920       173.1\n",
       "1930       173.4\n",
       "1940       176.1\n",
       "1950       177.1\n",
       "1960       177.3\n",
       "1970       178.3\n",
       "1980       179.0"
      ]
     },
     "execution_count": 16,
     "metadata": {},
     "output_type": "execute_result"
    }
   ],
   "source": [
    "data.drop(['Entity', 'Code'], axis=1, inplace=True) # axis specifies row drop or column drop\n",
    "data"
   ]
  },
  {
   "cell_type": "code",
   "execution_count": 17,
   "metadata": {},
   "outputs": [
    {
     "data": {
      "text/html": [
       "<div>\n",
       "<style scoped>\n",
       "    .dataframe tbody tr th:only-of-type {\n",
       "        vertical-align: middle;\n",
       "    }\n",
       "\n",
       "    .dataframe tbody tr th {\n",
       "        vertical-align: top;\n",
       "    }\n",
       "\n",
       "    .dataframe thead th {\n",
       "        text-align: right;\n",
       "    }\n",
       "</style>\n",
       "<table border=\"1\" class=\"dataframe\">\n",
       "  <thead>\n",
       "    <tr style=\"text-align: right;\">\n",
       "      <th></th>\n",
       "      <th>Height(cm)</th>\n",
       "    </tr>\n",
       "    <tr>\n",
       "      <th>Year</th>\n",
       "      <th></th>\n",
       "    </tr>\n",
       "  </thead>\n",
       "  <tbody>\n",
       "    <tr>\n",
       "      <th>1900</th>\n",
       "      <td>170.0</td>\n",
       "    </tr>\n",
       "    <tr>\n",
       "      <th>1910</th>\n",
       "      <td>172.1</td>\n",
       "    </tr>\n",
       "    <tr>\n",
       "      <th>1920</th>\n",
       "      <td>173.1</td>\n",
       "    </tr>\n",
       "    <tr>\n",
       "      <th>1930</th>\n",
       "      <td>173.4</td>\n",
       "    </tr>\n",
       "    <tr>\n",
       "      <th>1940</th>\n",
       "      <td>176.1</td>\n",
       "    </tr>\n",
       "    <tr>\n",
       "      <th>1950</th>\n",
       "      <td>177.1</td>\n",
       "    </tr>\n",
       "    <tr>\n",
       "      <th>1960</th>\n",
       "      <td>177.3</td>\n",
       "    </tr>\n",
       "    <tr>\n",
       "      <th>1970</th>\n",
       "      <td>178.3</td>\n",
       "    </tr>\n",
       "    <tr>\n",
       "      <th>1980</th>\n",
       "      <td>179.0</td>\n",
       "    </tr>\n",
       "  </tbody>\n",
       "</table>\n",
       "</div>"
      ],
      "text/plain": [
       "      Height(cm)\n",
       "Year            \n",
       "1900       170.0\n",
       "1910       172.1\n",
       "1920       173.1\n",
       "1930       173.4\n",
       "1940       176.1\n",
       "1950       177.1\n",
       "1960       177.3\n",
       "1970       178.3\n",
       "1980       179.0"
      ]
     },
     "execution_count": 17,
     "metadata": {},
     "output_type": "execute_result"
    }
   ],
   "source": [
    "data = data.rename(columns={'Unnamed: 3': \"Height(cm)\"})\n",
    "data"
   ]
  },
  {
   "cell_type": "markdown",
   "metadata": {},
   "source": [
    "## Part II: Data Exploration"
   ]
  },
  {
   "cell_type": "markdown",
   "metadata": {},
   "source": [
    "### 1. Plot height vs. year\n",
    "- Extract the list of heights.\n",
    "- Extract the list of years.\n",
    "- Use `plt.plot()` to create a scatter plot."
   ]
  },
  {
   "cell_type": "code",
   "execution_count": 24,
   "metadata": {},
   "outputs": [
    {
     "data": {
      "text/plain": [
       "[<matplotlib.lines.Line2D at 0x1e23f2eb358>]"
      ]
     },
     "execution_count": 24,
     "metadata": {},
     "output_type": "execute_result"
    },
    {
     "data": {
      "image/png": "[encoded data removed]",
      "text/plain": [
       "<matplotlib.figure.Figure at 0x1e23f2a6550>"
      ]
     },
     "metadata": {},
     "output_type": "display_data"
    }
   ],
   "source": [
    "heights = data['Height(cm)']\n",
    "years = data.index\n",
    "plt.plot(years, heights, 'g.')"
   ]
  },
  {
   "cell_type": "markdown",
   "metadata": {},
   "source": [
    "**How would you describe the trend?**\n",
    "1. Is there a trend?\n",
    "Answer: Yes.\n",
    "2. Is the trend upward or downward?\n",
    "Answer: Upward.\n",
    "3. It the trend consistent?\n",
    "Answer:\n",
    "\n",
    "Conclusion: We observe a near linear trend for the height growth."
   ]
  },
  {
   "cell_type": "markdown",
   "metadata": {},
   "source": [
    "### 2. Calculate the rate of height change\n",
    "- The formula is given as\n",
    "$$rate = \\frac{\\textit{difference in heights}}{\\textit{difference in years}}$$\n",
    "- For each decade, compute its average rate of change\n",
    "- Plot the rates vs. years"
   ]
  },
  {
   "cell_type": "code",
   "execution_count": 26,
   "metadata": {},
   "outputs": [
    {
     "name": "stdout",
     "output_type": "stream",
     "text": [
      "[0.20999999999999944, 0.1, 0.030000000000001137, 0.26999999999999885, 0.1, 0.020000000000001704, 0.1, 0.06999999999999887]\n"
     ]
    }
   ],
   "source": [
    "rates_height_change = []\n",
    "for year in data.index:\n",
    "    if year == 1900:\n",
    "        continue\n",
    "    else:\n",
    "        previous_year = year - 10\n",
    "        diff_heights = data.loc[year, 'Height(cm)'] - \\\n",
    "                       data.loc[previous_year, 'Height(cm)']\n",
    "        rate = diff_heights / 10\n",
    "        rates_height_change.append(rate)\n",
    "print(rates_height_change)"
   ]
  },
  {
   "cell_type": "code",
   "execution_count": 27,
   "metadata": {},
   "outputs": [
    {
     "data": {
      "text/plain": [
       "[<matplotlib.lines.Line2D at 0x1e23f359208>]"
      ]
     },
     "execution_count": 27,
     "metadata": {},
     "output_type": "execute_result"
    },
    {
     "data": {
      "image/png": "[encoded data removed]",
      "text/plain": [
       "<matplotlib.figure.Figure at 0x1e23f2f7080>"
      ]
     },
     "metadata": {},
     "output_type": "display_data"
    }
   ],
   "source": [
    "plt.plot(years[1:], rates_height_change, 'b.')"
   ]
  },
  {
   "cell_type": "markdown",
   "metadata": {},
   "source": [
    "## Part III: Modeling\n",
    "\n",
    "Since we haven't studied any modeling method yet, let's use our intuition to find a function that describes the relation between year and height.\n",
    "- Linear model ($height = m \\cdot year + b$) seems a good fit to the data.\n",
    "- What is a good value for $m$?\n",
    "- What is a good value for $b$?\n",
    "- Plot the line represented by the linear model\n",
    "    - Create a list of x-coordinates using `np.linspace`\n",
    "    - Calculate the corresponding y-coordinates\n",
    "    - Use these two lists to plot the line."
   ]
  },
  {
   "cell_type": "code",
   "execution_count": 28,
   "metadata": {},
   "outputs": [
    {
     "name": "stdout",
     "output_type": "stream",
     "text": [
      "0.1125 -43.75\n"
     ]
    }
   ],
   "source": [
    "m = np.mean(rates_height_change)\n",
    "b = data.loc[1900, 'Height(cm)'] - m * 1900\n",
    "print(m, b)"
   ]
  },
  {
   "cell_type": "markdown",
   "metadata": {},
   "source": [
    "Let's plot the model: height = 0.1125 * year - 43.75"
   ]
  },
  {
   "cell_type": "code",
   "execution_count": 31,
   "metadata": {},
   "outputs": [
    {
     "name": "stdout",
     "output_type": "stream",
     "text": [
      "[1900. 1901. 1902. 1903. 1904. 1905. 1906. 1907. 1908. 1909. 1910. 1911.\n",
      " 1912. 1913. 1914. 1915. 1916. 1917. 1918. 1919. 1920. 1921. 1922. 1923.\n",
      " 1924. 1925. 1926. 1927. 1928. 1929. 1930. 1931. 1932. 1933. 1934. 1935.\n",
      " 1936. 1937. 1938. 1939. 1940. 1941. 1942. 1943. 1944. 1945. 1946. 1947.\n",
      " 1948. 1949. 1950. 1951. 1952. 1953. 1954. 1955. 1956. 1957. 1958. 1959.\n",
      " 1960. 1961. 1962. 1963. 1964. 1965. 1966. 1967. 1968. 1969. 1970. 1971.\n",
      " 1972. 1973. 1974. 1975. 1976. 1977. 1978. 1979. 1980. 1981. 1982. 1983.\n",
      " 1984. 1985. 1986. 1987. 1988. 1989. 1990. 1991. 1992. 1993. 1994. 1995.\n",
      " 1996. 1997. 1998. 1999.]\n",
      "100\n"
     ]
    }
   ],
   "source": [
    "x_coordinates = np.linspace(1900, 1999, 100)\n",
    "print(x_coordinates)\n",
    "print(len(x_coordinates))"
   ]
  },
  {
   "cell_type": "code",
   "execution_count": 29,
   "metadata": {
    "collapsed": true
   },
   "outputs": [],
   "source": [
    "?np.linspace()"
   ]
  },
  {
   "cell_type": "code",
   "execution_count": 33,
   "metadata": {},
   "outputs": [
    {
     "name": "stdout",
     "output_type": "stream",
     "text": [
      "[170.     170.1125 170.225  170.3375 170.45   170.5625 170.675  170.7875\n",
      " 170.9    171.0125 171.125  171.2375 171.35   171.4625 171.575  171.6875\n",
      " 171.8    171.9125 172.025  172.1375 172.25   172.3625 172.475  172.5875\n",
      " 172.7    172.8125 172.925  173.0375 173.15   173.2625 173.375  173.4875\n",
      " 173.6    173.7125 173.825  173.9375 174.05   174.1625 174.275  174.3875\n",
      " 174.5    174.6125 174.725  174.8375 174.95   175.0625 175.175  175.2875\n",
      " 175.4    175.5125 175.625  175.7375 175.85   175.9625 176.075  176.1875\n",
      " 176.3    176.4125 176.525  176.6375 176.75   176.8625 176.975  177.0875\n",
      " 177.2    177.3125 177.425  177.5375 177.65   177.7625 177.875  177.9875\n",
      " 178.1    178.2125 178.325  178.4375 178.55   178.6625 178.775  178.8875\n",
      " 179.     179.1125 179.225  179.3375 179.45   179.5625 179.675  179.7875\n",
      " 179.9    180.0125 180.125  180.2375 180.35   180.4625 180.575  180.6875\n",
      " 180.8    180.9125 181.025  181.1375]\n",
      "100\n"
     ]
    }
   ],
   "source": [
    "y_coordinates = m * x_coordinates + b\n",
    "print(y_coordinates)\n",
    "print(len(y_coordinates))"
   ]
  },
  {
   "cell_type": "code",
   "execution_count": 34,
   "metadata": {},
   "outputs": [
    {
     "data": {
      "text/plain": [
       "[<matplotlib.lines.Line2D at 0x1e23f361550>]"
      ]
     },
     "execution_count": 34,
     "metadata": {},
     "output_type": "execute_result"
    },
    {
     "data": {
      "image/png": "[encoded data removed]",
      "text/plain": [
       "<matplotlib.figure.Figure at 0x1e23f361cf8>"
      ]
     },
     "metadata": {},
     "output_type": "display_data"
    }
   ],
   "source": [
    "plt.plot(x_coordinates, y_coordinates, 'g-')\n",
    "plt.plot(years, heights, 'b.')"
   ]
  },
  {
   "cell_type": "markdown",
   "metadata": {},
   "source": [
    "**Discussion:**\n",
    "- How should we evaluate this model?\n",
    "- Can you find a line that fits the model better?"
   ]
  },
  {
   "cell_type": "markdown",
   "metadata": {},
   "source": [
    "## Part IV: Model Evaluation\n",
    "- Objective: find a linear model whose predictions are *close* to the actual values.\n",
    "- Metric on closeness: **mean square error (MSE):**\n",
    "$$MSE = \\frac{1}{\\textit{number of data}}\\sum_{\\text{(x, y) in dataset}}(mx + b - y)^2$$\n",
    "\n",
    "Now that we have multiple model candidates, which one gives the smallest MSE?"
   ]
  },
  {
   "cell_type": "code",
   "execution_count": 38,
   "metadata": {},
   "outputs": [
    {
     "name": "stdout",
     "output_type": "stream",
     "text": [
      "173.375\n",
      "173.4\n",
      "0.025000000000005684\n"
     ]
    }
   ],
   "source": [
    "# Example: Calculate the error for 1930\n",
    "prediction = m * 1930 + b\n",
    "print(prediction)\n",
    "actual = data.loc[1930, \"Height(cm)\"]\n",
    "print(actual)\n",
    "error = actual - prediction\n",
    "print(error)"
   ]
  },
  {
   "cell_type": "code",
   "execution_count": 40,
   "metadata": {},
   "outputs": [
    {
     "name": "stdout",
     "output_type": "stream",
     "text": [
      "[0.0, 0.9749999999999943, 0.8499999999999943, 0.025000000000005684, 1.5999999999999943, 1.4749999999999943, 0.5500000000000114, 0.42500000000001137, 0.0]\n",
      "9\n"
     ]
    }
   ],
   "source": [
    "# Calculate errors for each year\n",
    "all_errors = []\n",
    "for year in data.index:\n",
    "    prediction = m * year + b\n",
    "    actual = data.loc[year, \"Height(cm)\"]\n",
    "    error = actual - prediction\n",
    "    all_errors.append(error)\n",
    "print(all_errors)\n",
    "print(len(all_errors))"
   ]
  },
  {
   "cell_type": "code",
   "execution_count": 42,
   "metadata": {},
   "outputs": [
    {
     "name": "stdout",
     "output_type": "stream",
     "text": [
      "[0.000000e+00 9.506250e-01 7.225000e-01 6.250000e-04 2.560000e+00\n",
      " 2.175625e+00 3.025000e-01 1.806250e-01 0.000000e+00]\n"
     ]
    }
   ],
   "source": [
    "# convert a list to a numpy array\n",
    "all_errors = np.array(all_errors)\n",
    "squared_error = all_errors ** 2\n",
    "print(squared_error)"
   ]
  },
  {
   "cell_type": "code",
   "execution_count": 43,
   "metadata": {},
   "outputs": [
    {
     "name": "stdout",
     "output_type": "stream",
     "text": [
      "0.7658333333333297\n"
     ]
    }
   ],
   "source": [
    "mse = np.mean(squared_error)\n",
    "print(mse)"
   ]
  },
  {
   "cell_type": "markdown",
   "metadata": {},
   "source": [
    "## Part V: Use the Model\n",
    "- What is your prediction on the average height in 1890?, 2000? 2050?\n",
    "- Check with the raw dataset and see if your 1890 prediction is close."
   ]
  },
  {
   "cell_type": "code",
   "execution_count": 44,
   "metadata": {},
   "outputs": [
    {
     "name": "stdout",
     "output_type": "stream",
     "text": [
      "168.875\n"
     ]
    }
   ],
   "source": [
    "prediction_1890 = m * 1890 + b\n",
    "print(prediction_1890)"
   ]
  },
  {
   "cell_type": "code",
   "execution_count": 45,
   "metadata": {},
   "outputs": [
    {
     "data": {
      "text/html": [
       "<div>\n",
       "<style scoped>\n",
       "    .dataframe tbody tr th:only-of-type {\n",
       "        vertical-align: middle;\n",
       "    }\n",
       "\n",
       "    .dataframe tbody tr th {\n",
       "        vertical-align: top;\n",
       "    }\n",
       "\n",
       "    .dataframe thead th {\n",
       "        text-align: right;\n",
       "    }\n",
       "</style>\n",
       "<table border=\"1\" class=\"dataframe\">\n",
       "  <thead>\n",
       "    <tr style=\"text-align: right;\">\n",
       "      <th></th>\n",
       "      <th>Entity</th>\n",
       "      <th>Code</th>\n",
       "      <th>Year</th>\n",
       "      <th>Unnamed: 3</th>\n",
       "    </tr>\n",
       "  </thead>\n",
       "  <tbody>\n",
       "    <tr>\n",
       "      <th>1201</th>\n",
       "      <td>United States</td>\n",
       "      <td>USA</td>\n",
       "      <td>1890</td>\n",
       "      <td>169.1</td>\n",
       "    </tr>\n",
       "  </tbody>\n",
       "</table>\n",
       "</div>"
      ],
      "text/plain": [
       "             Entity Code  Year  Unnamed: 3\n",
       "1201  United States  USA  1890       169.1"
      ]
     },
     "execution_count": 45,
     "metadata": {},
     "output_type": "execute_result"
    }
   ],
   "source": [
    "filter1 = (raw_data['Entity'] == \"United States\")\n",
    "filter2 = (raw_data['Year'] == 1890)\n",
    "raw_data[filter1 & filter2]"
   ]
  },
  {
   "cell_type": "code",
   "execution_count": 48,
   "metadata": {},
   "outputs": [
    {
     "name": "stdout",
     "output_type": "stream",
     "text": [
      "194.75\n"
     ]
    }
   ],
   "source": [
    "prediction_2120 = m * 2120 + b\n",
    "print(prediction_2120)"
   ]
  },
  {
   "cell_type": "markdown",
   "metadata": {},
   "source": [
    "## Various Types of Machine Learning\n",
    "- Supervised vs. Unsupervised Learning\n",
    "- Regression vs. Classification\n",
    "- Semisupervised, reinforcement, transfer learning, adverseral learning...\n",
    "- Online learning\n",
    "- Instance based vs. model based learning"
   ]
  },
  {
   "cell_type": "markdown",
   "metadata": {},
   "source": [
    "## Challenges of Machine Learning\n",
    "- Insufficient quantity of training data\n",
    "- Non-representative training data\n",
    "- Irrelevant features"
   ]
  },
  {
   "cell_type": "markdown",
   "metadata": {},
   "source": [
    "## Two Machine Learning Guidelines\n",
    "- No Free Lunch Theorem\n",
    "- Curse of Dimensionality"
   ]
  },
  {
   "cell_type": "markdown",
   "metadata": {},
   "source": [
    "# Homework (Due on Monday, Feb 10th at 11:59pm)\n",
    "\n",
    "Please create a new Jupyter notebook and enter your answers. All python code needs to be executed to show the results. After completion, print the notebook as a PDF file. For most browers, this can be done by pressing \"Ctrl + P\", and then choose \"Print as PDF\". Submit the PDF file to Blackboard under \"Week2 Homework\".\n",
    "\n",
    "1. Describe two real-life applications in which classification might be useful.\n",
    "2. Describe two real-life applications in which regression might be useful.\n",
    "3. Describe two real-life applications in which unsupervised learning might be useful\n",
    "4. Build a linear model (height = m * year + b) to escribe the trend of height increase for United Kingdom between 1900 and 1980. Compute the mean square error of your model, and display the model line together with the data points."
   ]
  },
  {
   "cell_type": "code",
   "execution_count": null,
   "metadata": {
    "collapsed": true
   },
   "outputs": [],
   "source": []
  }
 ],
 "metadata": {
  "kernelspec": {
   "display_name": "Python 3",
   "language": "python",
   "name": "python3"
  },
  "language_info": {
   "codemirror_mode": {
    "name": "ipython",
    "version": 3
   },
   "file_extension": ".py",
   "mimetype": "text/x-python",
   "name": "python",
   "nbconvert_exporter": "python",
   "pygments_lexer": "ipython3",
   "version": "3.6.3"
  }
 },
 "nbformat": 4,
 "nbformat_minor": 2
}
